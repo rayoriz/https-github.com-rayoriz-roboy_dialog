{
 "cells": [
  {
   "cell_type": "code",
   "execution_count": 2,
   "metadata": {
    "collapsed": true
   },
   "outputs": [],
   "source": [
    "import numpy as np\n",
    "import os.path\n",
    "import scipy.spatial.distance as sd\n",
    "import skipthoughts\n"
   ]
  },
  {
   "cell_type": "code",
   "execution_count": 14,
   "metadata": {
    "collapsed": true
   },
   "outputs": [],
   "source": [
    "neighbors = 10\n",
    "\n",
    "data =  ['Can you please tell me how old are you?',\n",
    "                'What is your age?',\n",
    "                'Please tell me your age.',\n",
    "                'Please tell me how old are you?',\n",
    "                'What is your age, please?',\n",
    "                'Say me your age?',\n",
    "                'How old are you?',\n",
    "                'Roboy, how old are you?',\n",
    "                'When were you born?',\n",
    "                'What\\'s the next birthday you celebrate?',\n",
    "                \n",
    "                'Who are you?',\n",
    "                'Please tell me your name.',\n",
    "                'What is your name?',\n",
    "                'Tell me your name, please.',\n",
    "                'How to call you?',\n",
    "                'How can I call you?',\n",
    "                'Do you have a name?',\n",
    "                'What\\'s the name you\\'ve been given?',\n",
    "                \n",
    "                'Who are your creators?',\n",
    "                'Where were you born?',\n",
    "                'Who created you?',\n",
    "                'Where were you assembled?',\n",
    "                'Can you please let us know where were you assembled?',\n",
    "                'Can you please let us know who created you?',\n",
    "                'Can you let us know who created you?',\n",
    "                'Do you know who developed you?',\n",
    "                'Tell me how was you created?',\n",
    "                'Whose your daddy?',\n",
    "                'Where are you from?',\n",
    "                \n",
    "                'What can you do?',\n",
    "                'What are you skilled at?',\n",
    "                'How can you help me?',\n",
    "                'Please tell me what can you do',\n",
    "                'What did you learn?',\n",
    "                'Can you really talk and understand or you just pretend?',\n",
    "                'What are you capable of?',\n",
    "                'What actions can you perform?',\n",
    "                'Can you tell me about your functions?',\n",
    "                'What are your abilities?',\n",
    "                \n",
    "                'How did you learn stuff?',\n",
    "                'How have you come to this?',\n",
    "                'From where did you learn things?',\n",
    "                'Who teaches you all this?',\n",
    "                'Who is your teacher?',\n",
    "                'Who is your guru?',\n",
    "                'Who is your mentor?',\n",
    "                'How have you learnt all your skills?',\n",
    "                'How do you know how to do stuff?',\n",
    "                \n",
    "                'How do you like this conference?',\n",
    "                'Do you like this fair?',\n",
    "                'What are your thoughts about the current exhibition?',\n",
    "                'How is this evening for you?',\n",
    "                'Do you feel comfortable here?',\n",
    "                'Are you going to stay till the end?',\n",
    "                'Why are you here?',\n",
    "                \n",
    "                'How is the weather today?',\n",
    "                'What is best thing to do in the city today?',\n",
    "                'Are you aware of any spectacular shows coming soon?',\n",
    "                'Name me some historically important places?',\n",
    "                'How is the road situation today?',\n",
    "                'Any suggestions on how to spend the day?',\n",
    "                'How far did you travel to this city?',\n",
    "                \n",
    "                'What is your goal?',\n",
    "                'What do you live for?',\n",
    "                'What were you created for?',\n",
    "                'Why do you speak with people?',\n",
    "                'What is your purpose?',\n",
    "                'What is the purpose of your existence?',\n",
    "                'What is the main reason for your creation?',\n",
    "                'What is the sole purpose of your existence?',\n",
    "                'Why are you so special?',\n",
    "                                                \n",
    "                'How old are you, Roboy?',\n",
    "                'Tell me your name.',\n",
    "                'Can you let me know who created you?',\n",
    "                'What are your functions?',\n",
    "                'Who taught you all the skills?',\n",
    "                'What would you say about this meeting?',\n",
    "                'Could you recommend some place to visit?',\n",
    "                'Why were you created?']"
   ]
  },
  {
   "cell_type": "code",
   "execution_count": 10,
   "metadata": {
    "collapsed": true
   },
   "outputs": [],
   "source": [
    "\t# A helper function to generate k nearest neighbors.\n",
    "\tdef get_nn(sentence):\n",
    "\t  encoding = encoder.encode([sentence])\n",
    "\t  encoding = encoding[0]\n",
    "\t  scores = sd.cdist([encoding], encodings, \"cosine\")[0]\n",
    "\t  sorted_ids = np.argsort(scores)\n",
    "\t  print(\"Sentence : \" + sentence)\n",
    "\t  print(\"\\nNearest neighbors:\")\n",
    "\t  for i in range(0, neighbors):\n",
    "\t\tprint(\" %d. %s (%.3f)\" %\n",
    "\t\t\t  (i+1, data[sorted_ids[i]], scores[sorted_ids[i]]))"
   ]
  },
  {
   "cell_type": "code",
   "execution_count": 5,
   "metadata": {},
   "outputs": [
    {
     "name": "stdout",
     "output_type": "stream",
     "text": [
      "Loading model parameters...\n",
      "Compiling encoders...\n"
     ]
    },
    {
     "name": "stderr",
     "output_type": "stream",
     "text": [
      "Vendor:  Continuum Analytics, Inc.\n",
      "Package: mkl\n",
      "Message: trial mode expires in 30 days\n"
     ]
    },
    {
     "name": "stdout",
     "output_type": "stream",
     "text": [
      "Loading tables...\n",
      "Packing up...\n",
      "4\n",
      "5\n",
      "6\n",
      "7\n",
      "8\n",
      "9\n",
      "10\n",
      "11\n"
     ]
    }
   ],
   "source": [
    "\tmodel = skipthoughts.load_model()\n",
    "\tencoder = skipthoughts.Encoder(model)\n",
    "\n",
    "\tencodings = encoder.encode(data)"
   ]
  },
  {
   "cell_type": "code",
   "execution_count": 16,
   "metadata": {},
   "outputs": [
    {
     "name": "stdout",
     "output_type": "stream",
     "text": [
      "5\n",
      "Sentence : what is your name?\n",
      "\n",
      "Nearest neighbors:\n",
      " 1. What is your name? (0.069)\n",
      " 2. Do you have a name? (0.121)\n",
      " 3. Who is your guru? (0.160)\n",
      " 4. Who are your creators? (0.170)\n",
      " 5. Who is your mentor? (0.174)\n",
      " 6. Who is your teacher? (0.174)\n",
      " 7. What is your age? (0.175)\n",
      " 8. What is your purpose? (0.177)\n",
      " 9. What is your goal? (0.192)\n",
      " 10. What are your functions? (0.193)\n"
     ]
    }
   ],
   "source": [
    "sentence = \"what is your name?\"\n",
    "\n",
    "get_nn(sentence)\n"
   ]
  },
  {
   "cell_type": "code",
   "execution_count": null,
   "metadata": {
    "collapsed": true
   },
   "outputs": [],
   "source": []
  }
 ],
 "metadata": {
  "kernelspec": {
   "display_name": "Python [conda env:tensorflow_env]",
   "language": "python",
   "name": "conda-env-tensorflow_env-py"
  },
  "language_info": {
   "codemirror_mode": {
    "name": "ipython",
    "version": 2
   },
   "file_extension": ".py",
   "mimetype": "text/x-python",
   "name": "python",
   "nbconvert_exporter": "python",
   "pygments_lexer": "ipython2",
   "version": "2.7.13"
  }
 },
 "nbformat": 4,
 "nbformat_minor": 2
}
