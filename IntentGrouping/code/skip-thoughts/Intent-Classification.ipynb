{
 "cells": [
  {
   "cell_type": "code",
   "execution_count": 68,
   "metadata": {
    "collapsed": false
   },
   "outputs": [
    {
     "ename": "ImportError",
     "evalue": "No module named rospy",
     "output_type": "error",
     "traceback": [
      "\u001b[0;31m---------------------------------------------------------------------------\u001b[0m",
      "\u001b[0;31mImportError\u001b[0m                               Traceback (most recent call last)",
      "\u001b[0;32m<ipython-input-68-f691f261c8b2>\u001b[0m in \u001b[0;36m<module>\u001b[0;34m()\u001b[0m\n\u001b[0;32m----> 1\u001b[0;31m \u001b[0;32mimport\u001b[0m \u001b[0mrospy\u001b[0m\u001b[0;34m\u001b[0m\u001b[0m\n\u001b[0m\u001b[1;32m      2\u001b[0m \u001b[0;32mimport\u001b[0m \u001b[0mnumpy\u001b[0m \u001b[0;32mas\u001b[0m \u001b[0mnp\u001b[0m\u001b[0;34m\u001b[0m\u001b[0m\n\u001b[1;32m      3\u001b[0m \u001b[0;32mimport\u001b[0m \u001b[0mos\u001b[0m\u001b[0;34m.\u001b[0m\u001b[0mpath\u001b[0m\u001b[0;34m\u001b[0m\u001b[0m\n\u001b[1;32m      4\u001b[0m \u001b[0;32mimport\u001b[0m \u001b[0mscipy\u001b[0m\u001b[0;34m.\u001b[0m\u001b[0mspatial\u001b[0m\u001b[0;34m.\u001b[0m\u001b[0mdistance\u001b[0m \u001b[0;32mas\u001b[0m \u001b[0msd\u001b[0m\u001b[0;34m\u001b[0m\u001b[0m\n\u001b[1;32m      5\u001b[0m \u001b[0;32mimport\u001b[0m \u001b[0mskipthoughts\u001b[0m\u001b[0;34m\u001b[0m\u001b[0m\n",
      "\u001b[0;31mImportError\u001b[0m: No module named rospy"
     ]
    }
   ],
   "source": [
    "import rospy\n",
    "import numpy as np\n",
    "import os.path\n",
    "import scipy.spatial.distance as sd\n",
    "import skipthoughts\n",
    "from nltk.stem.lancaster import LancasterStemmer\n",
    "import nltk\n",
    "stemmer = LancasterStemmer()   "
   ]
  },
  {
   "cell_type": "code",
   "execution_count": 65,
   "metadata": {
    "collapsed": false
   },
   "outputs": [],
   "source": [
    "\n",
    "def read_intents():\n",
    "    import os\n",
    "    intents_path=os.getcwd()+\"/intents/\";\n",
    "    training_data = []\n",
    "    for filename in os.listdir(intents_path):\n",
    "        with open(intents_path+filename) as f:\n",
    "            for line in f:\n",
    "                training_data.append({\"class\":filename, \"sentence\":line})\n",
    "            \n",
    "    return training_data\n",
    "\n",
    "ignore_words=['?',',','roboy','Roboy','\\n','.']\n",
    "\n",
    "def sanitize_sentence(sentence):\n",
    "    words=[stemmer.stem(w.lower()) for w in sentence if w not in ignore_words]\n",
    "    sentence_new= \"\".join(str(x) for x in words)\n",
    "    return sentence_new\n",
    "    \n",
    "words=[]\n",
    "classes=[]\n",
    "documents=[]\n",
    "def sanitize_dataset(training_data):\n",
    "   \n",
    "\n",
    "    #loop through each sentence in our training data\n",
    "    for pattern in training_data:\n",
    "        pattern['sentence']=sanitize_sentence(pattern['sentence'])\n",
    "        #add to our classes list\n",
    "        if pattern['class'] not in classes:\n",
    "            classes.append(pattern['class'])\n",
    "\n",
    "\n",
    "training_data=read_intents()\n",
    "sanitize_dataset(training_data)\n"
   ]
  },
  {
   "cell_type": "code",
   "execution_count": 37,
   "metadata": {
    "collapsed": false
   },
   "outputs": [],
   "source": [
    "sentences=[]\n",
    "\n",
    "for pattern in training_data:\n",
    "    sentences.append(pattern['sentence'])\n",
    "    \n"
   ]
  },
  {
   "cell_type": "code",
   "execution_count": 38,
   "metadata": {
    "collapsed": false
   },
   "outputs": [
    {
     "data": {
      "text/plain": [
       "['age_intent',\n",
       " 'aim_intent',\n",
       " 'city_specific_intent',\n",
       " 'creator_intent',\n",
       " 'event_specific_intent',\n",
       " 'how_learn_intent',\n",
       " 'name_intent',\n",
       " 'skills_intent']"
      ]
     },
     "execution_count": 38,
     "metadata": {},
     "output_type": "execute_result"
    }
   ],
   "source": [
    "classes"
   ]
  },
  {
   "cell_type": "code",
   "execution_count": 13,
   "metadata": {
    "collapsed": false
   },
   "outputs": [
    {
     "name": "stdout",
     "output_type": "stream",
     "text": [
      "Loading model parameters...\n",
      "Compiling encoders...\n"
     ]
    },
    {
     "name": "stderr",
     "output_type": "stream",
     "text": [
      "Vendor:  Continuum Analytics, Inc.\n",
      "Package: mkl\n",
      "Message: trial mode expires in 29 days\n"
     ]
    },
    {
     "name": "stdout",
     "output_type": "stream",
     "text": [
      "Loading tables...\n",
      "Packing up...\n",
      "3\n",
      "4\n",
      "5\n",
      "6\n",
      "7\n",
      "8\n",
      "9\n",
      "10\n"
     ]
    }
   ],
   "source": [
    "\tmodel = skipthoughts.load_model()\n",
    "\tencoder = skipthoughts.Encoder(model)\n",
    "\tencodings = encoder.encode(sentences)"
   ]
  },
  {
   "cell_type": "code",
   "execution_count": 86,
   "metadata": {
    "collapsed": false
   },
   "outputs": [],
   "source": [
    "\t# A helper function to generate k nearest neighbors.\n",
    "\tdef get_nn(sentence):\n",
    "\t  encoding = encoder.encode([sentence])\n",
    "\t  encoding = encoding[0]\n",
    "\t  scores = sd.cdist([encoding], encodings, \"cosine\")[0]\n",
    "\t  sorted_ids = np.argsort(scores)\n",
    "\t  print(\"Sentence : \" + sentence)\n",
    "\t  print(\"\\nNearest neighbors:\")\n",
    "\t  for i in range(0, neighbors):\n",
    "\t\tprint(\" %d. %s (%.3f) %s\" %\n",
    "\t\t\t  (i+1, sentences[sorted_ids[i]], scores[sorted_ids[i]],training_data[sorted_ids[i]][\"class\"]))\n",
    "        return  training_data[sorted_ids[i]][\"class\"],scores[sorted_ids[i]]"
   ]
  },
  {
   "cell_type": "code",
   "execution_count": 87,
   "metadata": {
    "collapsed": false
   },
   "outputs": [
    {
     "name": "stdout",
     "output_type": "stream",
     "text": [
      "5\n",
      "Sentence : what year were you born\n",
      "\n",
      "Nearest neighbors:\n",
      " 1. where were you born (0.129) creator_intent\n"
     ]
    },
    {
     "data": {
      "text/plain": [
       "('creator_intent', 0.12915440061293348)"
      ]
     },
     "execution_count": 87,
     "metadata": {},
     "output_type": "execute_result"
    }
   ],
   "source": [
    "neighbors = 1\n",
    "sentence = \"what year were you born\"\n",
    "sentence_sanitized=sanitize_sentence(sentence)\n",
    "sentence_sanitized\n",
    "intent=get_nn(sentence_sanitized) \n",
    "intent"
   ]
  },
  {
   "cell_type": "code",
   "execution_count": null,
   "metadata": {
    "collapsed": true
   },
   "outputs": [],
   "source": []
  }
 ],
 "metadata": {
  "anaconda-cloud": {},
  "kernelspec": {
   "display_name": "Python [conda env:tensorflow_env]",
   "language": "python",
   "name": "conda-env-tensorflow_env-py"
  },
  "language_info": {
   "codemirror_mode": {
    "name": "ipython",
    "version": 2
   },
   "file_extension": ".py",
   "mimetype": "text/x-python",
   "name": "python",
   "nbconvert_exporter": "python",
   "pygments_lexer": "ipython2",
   "version": "2.7.13"
  }
 },
 "nbformat": 4,
 "nbformat_minor": 2
}
